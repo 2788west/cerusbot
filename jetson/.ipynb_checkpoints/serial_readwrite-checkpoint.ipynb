{
 "cells": [
  {
   "cell_type": "code",
   "execution_count": null,
   "metadata": {},
   "outputs": [],
   "source": [
    "#This notebook enables basic read and write commands to control Cerus via Serial"
   ]
  },
  {
   "cell_type": "code",
   "execution_count": 6,
   "metadata": {},
   "outputs": [
    {
     "name": "stdout",
     "output_type": "stream",
     "text": [
      "COM5\n"
     ]
    }
   ],
   "source": [
    "import serial\n",
    "from datetime import datetime, timedelta\n",
    "\n",
    "ser = serial.Serial('COM5', 9600)\n",
    "print(ser.name)"
   ]
  },
  {
   "cell_type": "code",
   "execution_count": 19,
   "metadata": {},
   "outputs": [
    {
     "name": "stdout",
     "output_type": "stream",
     "text": [
      "865\n",
      "\n",
      "862\n",
      "\n",
      "821\n",
      "\n",
      "775\n",
      "\n",
      "729\n",
      "\n",
      "683\n",
      "\n",
      "637\n",
      "\n",
      "591\n",
      "\n",
      "545\n",
      "\n",
      "499\n",
      "\n",
      "453\n",
      "\n",
      "407\n",
      "\n",
      "361\n",
      "\n",
      "315\n",
      "\n",
      "269\n",
      "\n",
      "223\n",
      "\n",
      "177\n",
      "\n",
      "131\n",
      "\n",
      "85\n",
      "\n",
      "39\n",
      "\n",
      "-7\n",
      "\n"
     ]
    }
   ],
   "source": [
    "speed = 64 #speed from 0 to 255\n",
    "distance = 1000 #move distance in steps\n",
    "tok = datetime.now() + timedelta(seconds = 10)\n",
    "bot_moving = False\n",
    "\n",
    "\n",
    "#bot commands\n",
    "forward = \"W\" + str(speed) + \"\\n\"\n",
    "reverse = \"S\" + str(speed) + \"\\n\"\n",
    "stop = \"W\" + str(0) + \"\\n\"\n",
    "\n",
    "\n",
    "#send a move command to Cerus    \n",
    "ser.write(str.encode(reverse))\n",
    "bot_moving = True\n",
    "\n",
    "#wait for steps to be returned\n",
    "while bot_moving:\n",
    "    tik = datetime.now()\n",
    "    while ser.inWaiting():  \n",
    "        #print ((ser.readline()).decode(\"utf-8\"))\n",
    "        bot_dist = ((ser.readline()).decode(\"utf-8\"))\n",
    "        print(bot_dist)\n",
    "        bot_dist = int(bot_dist)\n",
    "    if tik > tok or bot_dist >= distance:\n",
    "        ser.write(str.encode(stop))\n",
    "        bot_moving = False\n"
   ]
  },
  {
   "cell_type": "code",
   "execution_count": null,
   "metadata": {},
   "outputs": [],
   "source": [
    "ser.write(str.encode(\"W0\\n\"))"
   ]
  },
  {
   "cell_type": "code",
   "execution_count": 20,
   "metadata": {},
   "outputs": [],
   "source": [
    "ser.close()"
   ]
  }
 ],
 "metadata": {
  "kernelspec": {
   "display_name": "Python 3",
   "language": "python",
   "name": "python3"
  },
  "language_info": {
   "codemirror_mode": {
    "name": "ipython",
    "version": 3
   },
   "file_extension": ".py",
   "mimetype": "text/x-python",
   "name": "python",
   "nbconvert_exporter": "python",
   "pygments_lexer": "ipython3",
   "version": "3.8.5"
  }
 },
 "nbformat": 4,
 "nbformat_minor": 4
}
