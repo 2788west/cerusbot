{
 "cells": [
  {
   "cell_type": "code",
   "execution_count": 60,
   "metadata": {},
   "outputs": [],
   "source": [
    "import serial\n",
    "import time\n",
    "from traitlets import HasTraits, List\n",
    "import numpy as np"
   ]
  },
  {
   "cell_type": "code",
   "execution_count": 61,
   "metadata": {},
   "outputs": [],
   "source": [
    "#Open a serial connection with the Arduino Mega\n",
    "ser = serial.Serial('COM3', 115200)"
   ]
  },
  {
   "cell_type": "code",
   "execution_count": 62,
   "metadata": {},
   "outputs": [],
   "source": [
    "#Create a move function that sends move commands to the Arduino\n",
    "def move(linearVelocity, angularVelocity):       \n",
    "        \n",
    "        command = f\"<{linearVelocity},{angularVelocity}>\"\n",
    "        ser.write(str.encode(command))   "
   ]
  },
  {
   "cell_type": "code",
   "execution_count": 63,
   "metadata": {},
   "outputs": [],
   "source": [
    "def formatData(data):\n",
    "    delimiter = \"x\"\n",
    "    leftVal = \"\"\n",
    "    rightVal = \"\"\n",
    "        \n",
    "    for i in range(len(data)):        \n",
    "        if data[i] == \",\":\n",
    "            delimiter = \",\"            \n",
    "        elif delimiter != \",\" and data[i].isdigit():\n",
    "            leftVal += data[i]            \n",
    "        elif delimiter == \",\" and data[i].isdigit():\n",
    "            rightVal += data[i]    \n",
    "       \n",
    "    leftVal, rightVal = int(leftVal), int(rightVal)\n",
    "    return leftVal, rightVal"
   ]
  },
  {
   "cell_type": "code",
   "execution_count": 64,
   "metadata": {},
   "outputs": [],
   "source": [
    "#Change this command for testing\n",
    "move(0.2,0.0)"
   ]
  },
  {
   "cell_type": "code",
   "execution_count": 65,
   "metadata": {},
   "outputs": [
    {
     "name": "stdout",
     "output_type": "stream",
     "text": [
      "Left old: 0, Left new: 0\n",
      "Left old: 13, Left new: 14\n",
      "Left old: 52, Left new: 52\n",
      "Left old: 91, Left new: 90\n",
      "Left old: 130, Left new: 128\n",
      "Left old: 169, Left new: 166\n",
      "Left old: 207, Left new: 204\n",
      "Left old: 246, Left new: 242\n",
      "Left old: 285, Left new: 280\n",
      "Left old: 324, Left new: 318\n",
      "Left old: 363, Left new: 356\n",
      "Left old: 402, Left new: 394\n",
      "Left old: 440, Left new: 432\n",
      "Left old: 479, Left new: 470\n",
      "Left old: 518, Left new: 508\n",
      "Left old: 557, Left new: 545\n",
      "Left old: 596, Left new: 580\n",
      "Left old: 634, Left new: 616\n",
      "Left old: 673, Left new: 653\n",
      "Left old: 712, Left new: 690\n",
      "Left old: 751, Left new: 728\n",
      "Left old: 790, Left new: 765\n",
      "Left old: 828, Left new: 803\n",
      "Left old: 867, Left new: 841\n",
      "Left old: 906, Left new: 879\n",
      "Left old: 945, Left new: 917\n",
      "Left old: 983, Left new: 955\n",
      "Left old: 1022, Left new: 993\n",
      "Left old: 1061, Left new: 1031\n",
      "Left old: 1100, Left new: 1069\n",
      "Left old: 1139, Left new: 1107\n",
      "Left old: 1178, Left new: 1145\n",
      "Left old: 1217, Left new: 1183\n",
      "Left old: 1256, Left new: 1221\n",
      "Left old: 1294, Left new: 1259\n",
      "Left old: 1333, Left new: 1297\n",
      "Left old: 1372, Left new: 1335\n",
      "Left old: 1411, Left new: 1373\n",
      "Left old: 1450, Left new: 1411\n",
      "Left old: 1489, Left new: 1449\n",
      "Left old: 1528, Left new: 1483\n",
      "Left old: 1567, Left new: 1519\n",
      "Left old: 1605, Left new: 1557\n",
      "Left old: 1644, Left new: 1594\n",
      "Left old: 1683, Left new: 1631\n",
      "Left old: 1722, Left new: 1669\n",
      "Left old: 1761, Left new: 1707\n",
      "Left old: 1800, Left new: 1745\n",
      "Left old: 1839, Left new: 1783\n",
      "Left old: 1877, Left new: 1821\n",
      "Left old: 1916, Left new: 1859\n",
      "Left old: 1955, Left new: 1897\n",
      "Left old: 1994, Left new: 1935\n",
      "Left old: 2033, Left new: 1973\n",
      "Left old: 2072, Left new: 2011\n",
      "Left old: 2111, Left new: 2049\n",
      "Left old: 2149, Left new: 2087\n",
      "Left old: 2188, Left new: 2125\n",
      "Left old: 2227, Left new: 2163\n",
      "Left old: 2266, Left new: 2201\n",
      "Left old: 2305, Left new: 2239\n",
      "Left old: 2344, Left new: 2277\n",
      "Left old: 2383, Left new: 2315\n",
      "Left old: 2422, Left new: 2352\n",
      "Left old: 2460, Left new: 2386\n",
      "Left old: 2499, Left new: 2423\n",
      "Left old: 2538, Left new: 2460\n",
      "Left old: 2577, Left new: 2497\n",
      "Left old: 2616, Left new: 2535\n",
      "Left old: 2655, Left new: 2573\n",
      "Left old: 2694, Left new: 2610\n",
      "Left old: 2733, Left new: 2648\n",
      "Left old: 2771, Left new: 2686\n",
      "Left old: 2810, Left new: 2724\n",
      "Left old: 2849, Left new: 2762\n",
      "Left old: 2888, Left new: 2800\n",
      "Left old: 2927, Left new: 2838\n",
      "Left old: 2966, Left new: 2876\n",
      "Left old: 3004, Left new: 2914\n",
      "Left old: 3043, Left new: 2952\n",
      "Left old: 3082, Left new: 2990\n",
      "Left old: 3121, Left new: 3028\n",
      "Left old: 3160, Left new: 3067\n",
      "Left old: 3199, Left new: 3105\n",
      "Left old: 3238, Left new: 3143\n",
      "Left old: 3277, Left new: 3181\n",
      "Left old: 3316, Left new: 3219\n",
      "Left old: 3355, Left new: 3256\n",
      "Left old: 3393, Left new: 3289\n",
      "Left old: 3432, Left new: 3326\n",
      "Left old: 3471, Left new: 3364\n",
      "Left old: 3510, Left new: 3401\n",
      "Left old: 3549, Left new: 3438\n"
     ]
    },
    {
     "ename": "SerialException",
     "evalue": "ClearCommError failed (OSError(22, 'The I/O operation has been aborted because of either a thread exit or an application request.', None, 995))",
     "output_type": "error",
     "traceback": [
      "\u001b[1;31m---------------------------------------------------------------------------\u001b[0m",
      "\u001b[1;31mSerialException\u001b[0m                           Traceback (most recent call last)",
      "\u001b[1;32m<ipython-input-65-182914b344cc>\u001b[0m in \u001b[0;36m<module>\u001b[1;34m\u001b[0m\n\u001b[0;32m      5\u001b[0m \u001b[1;33m\u001b[0m\u001b[0m\n\u001b[0;32m      6\u001b[0m     \u001b[1;32mwhile\u001b[0m \u001b[0mi\u001b[0m \u001b[1;33m<\u001b[0m \u001b[1;36m2\u001b[0m\u001b[1;33m:\u001b[0m\u001b[1;33m\u001b[0m\u001b[1;33m\u001b[0m\u001b[0m\n\u001b[1;32m----> 7\u001b[1;33m         \u001b[1;32mif\u001b[0m \u001b[0mser\u001b[0m\u001b[1;33m.\u001b[0m\u001b[0minWaiting\u001b[0m\u001b[1;33m(\u001b[0m\u001b[1;33m)\u001b[0m\u001b[1;33m:\u001b[0m\u001b[1;33m\u001b[0m\u001b[1;33m\u001b[0m\u001b[0m\n\u001b[0m\u001b[0;32m      8\u001b[0m             \u001b[0mtemp\u001b[0m \u001b[1;33m=\u001b[0m \u001b[0mser\u001b[0m\u001b[1;33m.\u001b[0m\u001b[0mreadline\u001b[0m\u001b[1;33m(\u001b[0m\u001b[1;33m)\u001b[0m\u001b[1;33m\u001b[0m\u001b[1;33m\u001b[0m\u001b[0m\n\u001b[0;32m      9\u001b[0m             \u001b[0mdata\u001b[0m\u001b[1;33m[\u001b[0m\u001b[0mi\u001b[0m\u001b[1;33m]\u001b[0m \u001b[1;33m=\u001b[0m \u001b[0mtemp\u001b[0m\u001b[1;33m.\u001b[0m\u001b[0mdecode\u001b[0m\u001b[1;33m(\u001b[0m\u001b[1;33m)\u001b[0m\u001b[1;33m\u001b[0m\u001b[1;33m\u001b[0m\u001b[0m\n",
      "\u001b[1;32mc:\\python38\\lib\\site-packages\\serial\\serialutil.py\u001b[0m in \u001b[0;36minWaiting\u001b[1;34m(self)\u001b[0m\n\u001b[0;32m    588\u001b[0m \u001b[1;33m\u001b[0m\u001b[0m\n\u001b[0;32m    589\u001b[0m     \u001b[1;32mdef\u001b[0m \u001b[0minWaiting\u001b[0m\u001b[1;33m(\u001b[0m\u001b[0mself\u001b[0m\u001b[1;33m)\u001b[0m\u001b[1;33m:\u001b[0m\u001b[1;33m\u001b[0m\u001b[1;33m\u001b[0m\u001b[0m\n\u001b[1;32m--> 590\u001b[1;33m         \u001b[1;32mreturn\u001b[0m \u001b[0mself\u001b[0m\u001b[1;33m.\u001b[0m\u001b[0min_waiting\u001b[0m\u001b[1;33m\u001b[0m\u001b[1;33m\u001b[0m\u001b[0m\n\u001b[0m\u001b[0;32m    591\u001b[0m \u001b[1;33m\u001b[0m\u001b[0m\n\u001b[0;32m    592\u001b[0m     \u001b[1;32mdef\u001b[0m \u001b[0msendBreak\u001b[0m\u001b[1;33m(\u001b[0m\u001b[0mself\u001b[0m\u001b[1;33m,\u001b[0m \u001b[0mduration\u001b[0m\u001b[1;33m=\u001b[0m\u001b[1;36m0.25\u001b[0m\u001b[1;33m)\u001b[0m\u001b[1;33m:\u001b[0m\u001b[1;33m\u001b[0m\u001b[1;33m\u001b[0m\u001b[0m\n",
      "\u001b[1;32mc:\\python38\\lib\\site-packages\\serial\\serialwin32.py\u001b[0m in \u001b[0;36min_waiting\u001b[1;34m(self)\u001b[0m\n\u001b[0;32m    255\u001b[0m         \u001b[0mcomstat\u001b[0m \u001b[1;33m=\u001b[0m \u001b[0mwin32\u001b[0m\u001b[1;33m.\u001b[0m\u001b[0mCOMSTAT\u001b[0m\u001b[1;33m(\u001b[0m\u001b[1;33m)\u001b[0m\u001b[1;33m\u001b[0m\u001b[1;33m\u001b[0m\u001b[0m\n\u001b[0;32m    256\u001b[0m         \u001b[1;32mif\u001b[0m \u001b[1;32mnot\u001b[0m \u001b[0mwin32\u001b[0m\u001b[1;33m.\u001b[0m\u001b[0mClearCommError\u001b[0m\u001b[1;33m(\u001b[0m\u001b[0mself\u001b[0m\u001b[1;33m.\u001b[0m\u001b[0m_port_handle\u001b[0m\u001b[1;33m,\u001b[0m \u001b[0mctypes\u001b[0m\u001b[1;33m.\u001b[0m\u001b[0mbyref\u001b[0m\u001b[1;33m(\u001b[0m\u001b[0mflags\u001b[0m\u001b[1;33m)\u001b[0m\u001b[1;33m,\u001b[0m \u001b[0mctypes\u001b[0m\u001b[1;33m.\u001b[0m\u001b[0mbyref\u001b[0m\u001b[1;33m(\u001b[0m\u001b[0mcomstat\u001b[0m\u001b[1;33m)\u001b[0m\u001b[1;33m)\u001b[0m\u001b[1;33m:\u001b[0m\u001b[1;33m\u001b[0m\u001b[1;33m\u001b[0m\u001b[0m\n\u001b[1;32m--> 257\u001b[1;33m             \u001b[1;32mraise\u001b[0m \u001b[0mSerialException\u001b[0m\u001b[1;33m(\u001b[0m\u001b[1;34m\"ClearCommError failed ({!r})\"\u001b[0m\u001b[1;33m.\u001b[0m\u001b[0mformat\u001b[0m\u001b[1;33m(\u001b[0m\u001b[0mctypes\u001b[0m\u001b[1;33m.\u001b[0m\u001b[0mWinError\u001b[0m\u001b[1;33m(\u001b[0m\u001b[1;33m)\u001b[0m\u001b[1;33m)\u001b[0m\u001b[1;33m)\u001b[0m\u001b[1;33m\u001b[0m\u001b[1;33m\u001b[0m\u001b[0m\n\u001b[0m\u001b[0;32m    258\u001b[0m         \u001b[1;32mreturn\u001b[0m \u001b[0mcomstat\u001b[0m\u001b[1;33m.\u001b[0m\u001b[0mcbInQue\u001b[0m\u001b[1;33m\u001b[0m\u001b[1;33m\u001b[0m\u001b[0m\n\u001b[0;32m    259\u001b[0m \u001b[1;33m\u001b[0m\u001b[0m\n",
      "\u001b[1;31mSerialException\u001b[0m: ClearCommError failed (OSError(22, 'The I/O operation has been aborted because of either a thread exit or an application request.', None, 995))"
     ]
    }
   ],
   "source": [
    "while True:\n",
    "\n",
    "    data = [0,0]\n",
    "    i = 0\n",
    "    \n",
    "    while i < 2:\n",
    "        if ser.inWaiting():        \n",
    "            temp = ser.readline()\n",
    "            data[i] = temp.decode()\n",
    "            #REDO THIS\n",
    "            leftValOld, leftValNew = formatData(data[0])\n",
    "            #rightValOld, rightValNew = formatData(data[1])\n",
    "            i += 1\n",
    "        \n",
    "    print(f\"Left old: {leftValOld}, Left new: {leftValNew}\")\n",
    "           "
   ]
  },
  {
   "cell_type": "code",
   "execution_count": null,
   "metadata": {},
   "outputs": [],
   "source": []
  }
 ],
 "metadata": {
  "kernelspec": {
   "display_name": "Python 3",
   "language": "python",
   "name": "python3"
  },
  "language_info": {
   "codemirror_mode": {
    "name": "ipython",
    "version": 3
   },
   "file_extension": ".py",
   "mimetype": "text/x-python",
   "name": "python",
   "nbconvert_exporter": "python",
   "pygments_lexer": "ipython3",
   "version": "3.8.5"
  }
 },
 "nbformat": 4,
 "nbformat_minor": 4
}
