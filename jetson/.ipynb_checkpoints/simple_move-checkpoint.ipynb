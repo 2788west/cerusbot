{
 "cells": [
  {
   "cell_type": "code",
   "execution_count": null,
   "metadata": {},
   "outputs": [],
   "source": [
    "import serial\n",
    "import time\n",
    "from traitlets import HasTraits, List\n",
    "import numpy as np"
   ]
  },
  {
   "cell_type": "code",
   "execution_count": null,
   "metadata": {},
   "outputs": [],
   "source": [
    "#Open a serial connection with the Arduino Mega\n",
    "ser = serial.Serial('COM3', 115200)"
   ]
  },
  {
   "cell_type": "code",
   "execution_count": 1,
   "metadata": {},
   "outputs": [
    {
     "ename": "NameError",
     "evalue": "name 'HasTraits' is not defined",
     "output_type": "error",
     "traceback": [
      "\u001b[1;31m---------------------------------------------------------------------------\u001b[0m",
      "\u001b[1;31mNameError\u001b[0m                                 Traceback (most recent call last)",
      "\u001b[1;32m<ipython-input-1-871ace32239a>\u001b[0m in \u001b[0;36m<module>\u001b[1;34m\u001b[0m\n\u001b[0;32m      1\u001b[0m \u001b[1;31m#Create an encoder class with traits\u001b[0m\u001b[1;33m\u001b[0m\u001b[1;33m\u001b[0m\u001b[1;33m\u001b[0m\u001b[0m\n\u001b[1;32m----> 2\u001b[1;33m \u001b[1;32mclass\u001b[0m \u001b[0mEncoders\u001b[0m\u001b[1;33m(\u001b[0m\u001b[0mHasTraits\u001b[0m\u001b[1;33m)\u001b[0m\u001b[1;33m:\u001b[0m\u001b[1;33m\u001b[0m\u001b[1;33m\u001b[0m\u001b[0m\n\u001b[0m\u001b[0;32m      3\u001b[0m     \u001b[0mencoderValues\u001b[0m \u001b[1;33m=\u001b[0m \u001b[0mList\u001b[0m\u001b[1;33m(\u001b[0m\u001b[1;33m)\u001b[0m \u001b[1;31m#We store the left and right encoder value in a list\u001b[0m\u001b[1;33m\u001b[0m\u001b[1;33m\u001b[0m\u001b[0m\n\u001b[0;32m      4\u001b[0m \u001b[1;33m\u001b[0m\u001b[0m\n\u001b[0;32m      5\u001b[0m     \u001b[1;32mdef\u001b[0m \u001b[0m__init__\u001b[0m\u001b[1;33m(\u001b[0m\u001b[0mself\u001b[0m\u001b[1;33m,\u001b[0m \u001b[0mencoderValues\u001b[0m\u001b[1;33m,\u001b[0m \u001b[0mdeltaTicks\u001b[0m\u001b[1;33m)\u001b[0m\u001b[1;33m:\u001b[0m\u001b[1;33m\u001b[0m\u001b[1;33m\u001b[0m\u001b[0m\n",
      "\u001b[1;31mNameError\u001b[0m: name 'HasTraits' is not defined"
     ]
    }
   ],
   "source": [
    "#Create an encoder class with traits\n",
    "class Encoders(HasTraits):    \n",
    "    encoderValues = List() #We store the left and right encoder value in a list\n",
    "    \n",
    "    def __init__(self, encoderValues, deltaTicks):\n",
    "        self.encoderValues = encoderValues        \n",
    "        self.deltaTicks = deltaTicks       \n",
    "\n",
    "#Create an encoder instance \n",
    "encoders = Encoders([0,0], [0,0])\n",
    "\n",
    "#Create a function that is triggered when a change to encoders is detected\n",
    "def monitorEncoders(change):\n",
    "        \n",
    "        if change['new']:\n",
    "            #Message for debugging only         \n",
    "            print(\"Success!\")\n",
    "            \n",
    "encoders.observe(monitorEncoders, names = \"encoderValues\")"
   ]
  },
  {
   "cell_type": "code",
   "execution_count": null,
   "metadata": {},
   "outputs": [],
   "source": [
    "#Create a move function that sends move commands to the Arduino\n",
    "def move(linearVelocity, angularVelocity):       \n",
    "        \n",
    "        command = f\"<{linearVelocity},{angularVelocity}>\"\n",
    "        ser.write(str.encode(command))       "
   ]
  },
  {
   "cell_type": "code",
   "execution_count": null,
   "metadata": {},
   "outputs": [],
   "source": [
    "#Functions to read and format encoder data received from the Serial port\n",
    "def formatData(data):\n",
    "    delimiter = \"x\"\n",
    "    leftVal = \"\"\n",
    "    rightVal = \"\"\n",
    "    \n",
    "    for i in range(len(data)):        \n",
    "        if data[i] == \",\":\n",
    "            delimiter = \",\"            \n",
    "        elif delimiter != \",\" and data[i].isdigit():\n",
    "            leftVal += data[i]            \n",
    "        elif delimiter == \",\" and data[i].isdigit():\n",
    "            rightVal += data[i]    \n",
    "       \n",
    "    leftVal, rightVal = int(leftVal), int(rightVal)\n",
    "    encoders.encoderValues = [leftVal, rightVal]    \n",
    "    print(\"Encoders: \", encoders.encoderValues)\n",
    "\n",
    "def handleSerial():\n",
    "    #ser.readline() waits for the next line of encoder data, which is sent by Arduino every 50 ms\n",
    "    temp = ser.readline()\n",
    "    data = temp.decode()\n",
    "    formatData(data)  "
   ]
  },
  {
   "cell_type": "code",
   "execution_count": null,
   "metadata": {},
   "outputs": [],
   "source": [
    "#Change this command for testing\n",
    "move(0.0,0.0)\n",
    "handleSerial()"
   ]
  },
  {
   "cell_type": "code",
   "execution_count": null,
   "metadata": {},
   "outputs": [],
   "source": [
    "ser.close()"
   ]
  }
 ],
 "metadata": {
  "kernelspec": {
   "display_name": "Python 3",
   "language": "python",
   "name": "python3"
  },
  "language_info": {
   "codemirror_mode": {
    "name": "ipython",
    "version": 3
   },
   "file_extension": ".py",
   "mimetype": "text/x-python",
   "name": "python",
   "nbconvert_exporter": "python",
   "pygments_lexer": "ipython3",
   "version": "3.8.5"
  }
 },
 "nbformat": 4,
 "nbformat_minor": 4
}
