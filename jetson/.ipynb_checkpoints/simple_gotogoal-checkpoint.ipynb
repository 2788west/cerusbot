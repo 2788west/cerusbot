{
 "cells": [
  {
   "cell_type": "markdown",
   "metadata": {},
   "source": [
    "# Simple Go-To-Goal for Cerus"
   ]
  },
  {
   "cell_type": "markdown",
   "metadata": {},
   "source": [
    "The following code implements a simple go-to-goal behavior for Cerus. It uses a closed feedback loop to continuously asses Cerus' state (position and heading) in the world using data from two wheel encoders. It subsequently calculates the error between a given goal location and its current pose and will attempt to minimize the error until it reaches the goal location. A P-regulator (see PID regulator) script uses the error as an input and outputs the angular velocity for the Arduino and motor controllers that drive the robot. \n",
    "\n",
    "All models used in this program are adapted from Georgia Tech's \"Control of Mobile Robots\" by Dr. Magnus Egerstedt.    "
   ]
  },
  {
   "cell_type": "code",
   "execution_count": null,
   "metadata": {},
   "outputs": [],
   "source": [
    "#Import useful libraries\n",
    "import serial\n",
    "import time\n",
    "import math\n",
    "import numpy as np\n",
    "from traitlets import HasTraits, List"
   ]
  },
  {
   "cell_type": "code",
   "execution_count": null,
   "metadata": {},
   "outputs": [],
   "source": [
    "#Open a serial connection with the Arduino Mega\n",
    "#Opening a serial port on the Arduino resets it, so our encoder count is also reset to 0,0\n",
    "ser = serial.Serial('COM3', 115200)"
   ]
  },
  {
   "cell_type": "code",
   "execution_count": null,
   "metadata": {},
   "outputs": [],
   "source": [
    "#Defining our goal location. Units are metric, real-world coordinates in an X/Y coordinate system\n",
    "goal_x = 1\n",
    "goal_y = 0"
   ]
  },
  {
   "cell_type": "code",
   "execution_count": null,
   "metadata": {},
   "outputs": [],
   "source": [
    "#Create a class for our Cerus robot\n",
    "class Cerus():\n",
    "    def __init__(self, pose_x, pose_y, pose_phi, R_wheel, N_ticks, L_track):\n",
    "        self.pose_x = pose_x #X Position\n",
    "        self.pose_y = pose_y #Y Position\n",
    "        self.pose_phi = pose_phi #Heading\n",
    "        self.R_wheel = R_wheel #wheel radius in meters\n",
    "        self.N_ticks = N_ticks #encoder ticks per wheel revolution\n",
    "        self.L_track = L_track #wheel track in meters\n",
    "\n",
    "#Create a Cerus instance and initialize it to a 0,0,0 world position and with some physical dimensions \n",
    "cerus = Cerus(0,0,0,0.03,900,0.23)"
   ]
  },
  {
   "cell_type": "markdown",
   "metadata": {},
   "source": [
    "We'll use the Traitlets library to implement an observer pattern that will recalculate the pose of the robot every time an update to the encoder values is detected and sent to the Jetson nano by the Arduino."
   ]
  },
  {
   "cell_type": "code",
   "execution_count": null,
   "metadata": {},
   "outputs": [],
   "source": [
    "#Create an encoder class with traits\n",
    "class Encoders(HasTraits):    \n",
    "    encoderValues = List() #We store the left and right encoder value in a list\n",
    "    \n",
    "    def __init__(self, encoderValues, deltaTicks):\n",
    "        self.encoderValues = encoderValues        \n",
    "        self.deltaTicks = deltaTicks       \n",
    "\n",
    "#Create an encoder instance \n",
    "encoders = Encoders([0,0], [0,0])"
   ]
  },
  {
   "cell_type": "code",
   "execution_count": null,
   "metadata": {},
   "outputs": [],
   "source": [
    "#Create a function that is triggered when a change to encoders is detected\n",
    "def monitorEncoders(change):\n",
    "        if change['new']:\n",
    "                       \n",
    "            oldVals = np.array(change['old'])\n",
    "            newVals = np.array(change['new'])\n",
    "            deltaTicks = newVals - oldVals\n",
    "            #print(\"Old values: \", oldVals)\n",
    "            #print(\"New values: \", newVals)\n",
    "            print(\"Delta values: \", deltaTicks)\n",
    "            \n",
    "            calculatePose(deltaTicks)\n",
    "            \n",
    "encoders.observe(monitorEncoders, names = \"encoderValues\")"
   ]
  },
  {
   "cell_type": "markdown",
   "metadata": {},
   "source": [
    "The functions below are helpers and will be called through our main loop."
   ]
  },
  {
   "cell_type": "code",
   "execution_count": null,
   "metadata": {},
   "outputs": [],
   "source": [
    "#Create a move function that sends move commands to the Arduino\n",
    "def move(linearVelocity, angularVelocity):       \n",
    "        \n",
    "        command = f\"<{linearVelocity},{angularVelocity}>\"\n",
    "        ser.write(str.encode(command))"
   ]
  },
  {
   "cell_type": "code",
   "execution_count": null,
   "metadata": {},
   "outputs": [],
   "source": [
    "#Create a function that calculates an updated pose of Cerus every time it is called\n",
    "def calculatePose(deltaTicks):\n",
    "    \n",
    "    #Calculate the centerline distance moved\n",
    "    distanceLeft = 2 * math.pi * cerus.R_wheel * (deltaTicks[0] / cerus.N_ticks)\n",
    "    distanceRight = 2 * math.pi * cerus.R_wheel * (deltaTicks[1] / cerus.N_ticks)\n",
    "    distanceCenter = (distanceLeft + distanceRight) / 2\n",
    "        \n",
    "    #Update the position and heading\n",
    "    cerus.pose_x = round((cerus.pose_x + distanceCenter * math.cos(cerus.pose_phi)), 4)\n",
    "    cerus.pose_y = round((cerus.pose_y + distanceCenter * math.sin(cerus.pose_phi)), 4)\n",
    "    cerus.pose_phi = round((cerus.pose_phi + ((distanceRight - distanceLeft) / cerus.L_track)), 4)\n",
    "        \n",
    "    print(f\"The new position is {cerus.pose_x}, {cerus.pose_y} and the new heading is {cerus.pose_phi}.\")"
   ]
  },
  {
   "cell_type": "code",
   "execution_count": null,
   "metadata": {},
   "outputs": [],
   "source": [
    "#Calculate the error between Cerus' heading and the goal point\n",
    "def calculateError():\n",
    "    \n",
    "    phi_desired = math.atan((goal_y - cerus.pose_y)/(goal_x - cerus.pose_x))\n",
    "    \n",
    "    temp = phi_desired - cerus.pose_phi\n",
    "    error_heading = round((math.atan2(math.sin(temp), math.cos(temp))), 4) #ensure that error is within [-pi, pi]\n",
    "    error_x = round((goal_x - cerus.pose_x), 4)\n",
    "    error_y = round((goal_y - cerus.pose_y), 4)\n",
    "    \n",
    "    #print(\"The heading error is: \", error_heading)\n",
    "    #print(\"The X error is: \", error_x)\n",
    "    #print(\"The Y error is: \", error_y)\n",
    "    return error_x, error_y, error_heading"
   ]
  },
  {
   "cell_type": "code",
   "execution_count": null,
   "metadata": {},
   "outputs": [],
   "source": [
    "#Functions to read and format encoder data received from the Serial port\n",
    "def formatData(data):\n",
    "    delimiter = \"x\"\n",
    "    leftVal = \"\"\n",
    "    rightVal = \"\"\n",
    "    \n",
    "    for i in range(len(data)):        \n",
    "        if data[i] == \",\":\n",
    "            delimiter = \",\"            \n",
    "        elif delimiter != \",\" and data[i].isdigit():\n",
    "            leftVal += data[i]            \n",
    "        elif delimiter == \",\" and data[i].isdigit():\n",
    "            rightVal += data[i]    \n",
    "       \n",
    "    leftVal, rightVal = int(leftVal), int(rightVal)\n",
    "    encoders.encoderValues = [leftVal, rightVal]    \n",
    "    print(\"Encoders: \", encoders.encoderValues)\n",
    "\n",
    "def handleSerial():\n",
    "    #ser.readline() waits for the next line of encoder data, which is sent by Arduino every 50 ms\n",
    "    temp = ser.readline()\n",
    "    data = temp.decode()\n",
    "    formatData(data)    "
   ]
  },
  {
   "cell_type": "markdown",
   "metadata": {},
   "source": [
    "This is the main part for our program that will loop over and over until Cerus has reached its goal. For our simple go-to-goal behavior, we will drive the robot at a constant speed and only adjust our heading so that we reach the goal location.\n",
    "\n",
    "__WARNING: This will move the robot!__"
   ]
  },
  {
   "cell_type": "code",
   "execution_count": null,
   "metadata": {},
   "outputs": [],
   "source": [
    "atGoal = False\n",
    "constVel = 0.2\n",
    "\n",
    "while not atGoal:\n",
    "    try:        \n",
    "        \n",
    "        #Calculate the current pose to goal \n",
    "        error_x, error_y, error_heading = calculateError()\n",
    "        \n",
    "        #If we're within 5 cm of the goal\n",
    "        if error_x <= 0.05: #and error_y <= 0.05:\n",
    "            print(\"Goal reached!\")\n",
    "            move(0.0,0.0)\n",
    "            time.sleep(0.1)\n",
    "            atGoal = True\n",
    "\n",
    "        #Otherwise keep driving\n",
    "        else:\n",
    "            K = 1 #constant for our P-regulator below\n",
    "            omega = K * error_heading            \n",
    "            handleSerial()  \n",
    "            #ADD ANGULAR VELOCITY HERE\n",
    "            move(constVel,0.0)\n",
    "            print(\"Moving\")\n",
    "            \n",
    "                                    \n",
    "    except(KeyboardInterrupt):\n",
    "        print(\"Program interrupted by user!\")\n",
    "        move(0.0,0.0) #Stop motors\n",
    "        break\n",
    "\n",
    "\"Loop exited...\"\n",
    "move(0.0,0.0) #Stop motors"
   ]
  },
  {
   "cell_type": "code",
   "execution_count": null,
   "metadata": {},
   "outputs": [],
   "source": [
    "#Close the serial connection when done\n",
    "ser.close()"
   ]
  }
 ],
 "metadata": {
  "kernelspec": {
   "display_name": "Python 3",
   "language": "python",
   "name": "python3"
  },
  "language_info": {
   "codemirror_mode": {
    "name": "ipython",
    "version": 3
   },
   "file_extension": ".py",
   "mimetype": "text/x-python",
   "name": "python",
   "nbconvert_exporter": "python",
   "pygments_lexer": "ipython3",
   "version": "3.8.5"
  }
 },
 "nbformat": 4,
 "nbformat_minor": 4
}
