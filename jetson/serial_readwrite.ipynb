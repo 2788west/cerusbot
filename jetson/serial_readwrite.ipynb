{
 "cells": [
  {
   "cell_type": "code",
   "execution_count": null,
   "metadata": {},
   "outputs": [],
   "source": [
    "#This notebook enables basic read and write commands to control Cerus via Serial"
   ]
  },
  {
   "cell_type": "code",
   "execution_count": null,
   "metadata": {},
   "outputs": [],
   "source": [
    "import serial\n",
    "import time\n",
    "\n",
    "ser = serial.Serial('COM5', 9600)\n",
    "\n",
    "#bot commands\n",
    "forward = \"W\" + str(speed) + \"\\n\"\n",
    "reverse = \"S\" + str(speed) + \"\\n\"\n",
    "stop = \"W\" + str(0) + \"\\n\"\n",
    "\n",
    "speed = 64 #speed from 0 to 255\n",
    "distance = 1000 #move distance in steps\n",
    "bot_moving = False\n",
    "\n",
    "#send a move command to Cerus    \n",
    "ser.write(str.encode(command))\n",
    "bot_moving = True\n",
    "\n",
    "#wait for steps to be returned\n",
    "while bot_moving:\n",
    "    while ser.inWaiting():  \n",
    "        print ser.readline()\n",
    "        bot_dist = ser.readline()\n",
    "    if bot_dist >= distance:\n",
    "        ser.write(str.encode(stop))\n",
    "        bot_moving = False\n",
    " \n",
    "ser.close()"
   ]
  }
 ],
 "metadata": {
  "kernelspec": {
   "display_name": "Python 3",
   "language": "python",
   "name": "python3"
  },
  "language_info": {
   "codemirror_mode": {
    "name": "ipython",
    "version": 3
   },
   "file_extension": ".py",
   "mimetype": "text/x-python",
   "name": "python",
   "nbconvert_exporter": "python",
   "pygments_lexer": "ipython3",
   "version": "3.7.4"
  }
 },
 "nbformat": 4,
 "nbformat_minor": 4
}
