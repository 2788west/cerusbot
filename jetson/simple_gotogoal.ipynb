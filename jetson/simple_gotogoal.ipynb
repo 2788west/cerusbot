{
 "cells": [
  {
   "cell_type": "markdown",
   "metadata": {},
   "source": [
    "# Simple Go-To-Goal for Cerus"
   ]
  },
  {
   "cell_type": "markdown",
   "metadata": {},
   "source": [
    "The following code implements a simple go-to-goal behavior for Cerus. It uses a closed feedback loop to continuously asses Cerus' state (position and heading) in the world using data from two wheel encoders. It subsequently calculates the error between a given goal location and its current pose and will attempt to minimize the error until it reaches the goal location. A P-regulator (see PID regulator) function uses the error as an input and outputs the angular velocity for the Arduino and motor controllers that drive the robot. \n",
    "\n",
    "All models used in this program are adapted from Georgia Tech's \"Control of Mobile Robots\" by Dr. Magnus Egerstedt.    "
   ]
  },
  {
   "cell_type": "code",
   "execution_count": 1,
   "metadata": {},
   "outputs": [],
   "source": [
    "#Import useful libraries\n",
    "import serial\n",
    "import time\n",
    "import math"
   ]
  },
  {
   "cell_type": "markdown",
   "metadata": {},
   "source": [
    "We first define our goal location. Units are metric, real-world coordinates in an X/Y coordinate system"
   ]
  },
  {
   "cell_type": "code",
   "execution_count": 2,
   "metadata": {},
   "outputs": [],
   "source": [
    "goal_x = 0.5 #Goal X coordinate in meters\n",
    "goal_y = -0.5 #Goal Y coordinate in meters\n",
    "atGoal = False\n",
    "constVel = 0.5 #To simplify this program, we're using a constant linear velocity to reach our goal"
   ]
  },
  {
   "cell_type": "markdown",
   "metadata": {},
   "source": [
    "We use pySerial to read encoder data from the Arduino and send move commands to it:"
   ]
  },
  {
   "cell_type": "code",
   "execution_count": 3,
   "metadata": {},
   "outputs": [],
   "source": [
    "#Opening a serial port on the Arduino resets it, so our encoder count is also reset to 0,0\n",
    "ser = serial.Serial('COM3', 115200) #replace 'COM3' with the appropriate serial port on your device\n",
    "time.sleep(1)"
   ]
  },
  {
   "cell_type": "markdown",
   "metadata": {},
   "source": [
    "The Cerus class keeps track of all the important robot parameters."
   ]
  },
  {
   "cell_type": "code",
   "execution_count": 4,
   "metadata": {},
   "outputs": [],
   "source": [
    "class Cerus():\n",
    "    def __init__(self, pose_x, pose_y, pose_phi, R_wheel, N_ticks, L_track):\n",
    "        self.pose_x = pose_x #X position\n",
    "        self.pose_y = pose_y #Y position\n",
    "        self.pose_phi = pose_phi #Heading\n",
    "        self.R_wheel = R_wheel #wheel radius in meters\n",
    "        self.N_ticks = N_ticks #encoder ticks per wheel revolution\n",
    "        self.L_track = L_track #wheel track in meters        \n",
    "\n",
    "#Create a Cerus instance and initialize it to a 0,0,0 world position and with some physical dimensions \n",
    "cerus = Cerus(0,0,0,0.03,500,0.23)"
   ]
  },
  {
   "cell_type": "markdown",
   "metadata": {},
   "source": [
    "Pose calculation allows us track where our robot is in space as it moves. The pose is often also referred to as the 'state'."
   ]
  },
  {
   "cell_type": "code",
   "execution_count": 5,
   "metadata": {},
   "outputs": [],
   "source": [
    "def calculatePose(deltaTicks):\n",
    "    \n",
    "    #Calculate the centerline distance moved\n",
    "    distanceLeft = 2 * math.pi * cerus.R_wheel * (deltaTicks[0] / cerus.N_ticks)\n",
    "    distanceRight = 2 * math.pi * cerus.R_wheel * (deltaTicks[1] / cerus.N_ticks)\n",
    "    distanceCenter = (distanceLeft + distanceRight) / 2\n",
    "            \n",
    "    #Update the position and heading\n",
    "    cerus.pose_x = round((cerus.pose_x + distanceCenter * math.cos(cerus.pose_phi)), 4)\n",
    "    cerus.pose_y = round((cerus.pose_y + distanceCenter * math.sin(cerus.pose_phi)), 4)\n",
    "    cerus.pose_phi = round((cerus.pose_phi + ((distanceRight - distanceLeft) / cerus.L_track)), 4)"
   ]
  },
  {
   "cell_type": "markdown",
   "metadata": {},
   "source": [
    "Additionally, we want to keep track of how far we're off the goal point defined initially."
   ]
  },
  {
   "cell_type": "code",
   "execution_count": 6,
   "metadata": {},
   "outputs": [],
   "source": [
    "#Calculate the error between Cerus' heading and the goal point\n",
    "def calculateError():\n",
    "    \n",
    "    phi_desired = math.atan2((goal_y - cerus.pose_y),(goal_x - cerus.pose_x))    \n",
    "    \n",
    "    temp = phi_desired - cerus.pose_phi     \n",
    "    \n",
    "    error_heading = round((math.atan2(math.sin(temp), math.cos(temp))), 4) #ensure that error is within [-pi, pi]\n",
    "    error_x = round((goal_x - cerus.pose_x), 4)\n",
    "    error_y = round((goal_y - cerus.pose_y), 4)\n",
    "    \n",
    "    print(\"The heading error is: \", error_heading)\n",
    "    print(\"The X error is: \", error_x)\n",
    "    print(\"The Y error is: \", error_y)\n",
    "    return error_x, error_y, error_heading"
   ]
  },
  {
   "cell_type": "markdown",
   "metadata": {},
   "source": [
    "Finally, we want to read our encoders, calculate our pose, calculate the goal error and issue a move command if necessary."
   ]
  },
  {
   "cell_type": "code",
   "execution_count": 7,
   "metadata": {},
   "outputs": [],
   "source": [
    "def moveRobot(): \n",
    "    \n",
    "    global atGoal\n",
    "    atGoal = False\n",
    "    \n",
    "    #Everytime we call this function, we read two sets of encoder values and evaluate the delta  \n",
    "    data = [\"0,0\",\"0,0\"]\n",
    "    i = 0    \n",
    "       \n",
    "    while i < 2 and atGoal == False:\n",
    "        if ser.inWaiting():                 \n",
    "            temp = ser.readline()\n",
    "            data[i] = temp.decode()\n",
    "            \n",
    "            leftValOld, rightValOld = formatData(data[0])\n",
    "            leftValNew, rightValNew = formatData(data[1])\n",
    "            i += 1\n",
    "                   \n",
    "        \n",
    "    #From these values we can calculate the momentary encoder values for both sides of the robot\n",
    "    leftDelta = leftValNew - leftValOld\n",
    "    rightDelta = rightValNew - rightValOld\n",
    "    deltaTicks = [leftDelta, rightDelta]    \n",
    "            \n",
    "    #Calculate current pose\n",
    "    calculatePose(deltaTicks)        \n",
    "        \n",
    "    #Calculate the current pose to goal error\n",
    "    error_x, error_y, error_heading = calculateError()\n",
    "            \n",
    "    #If we're within 5 cm of the goal\n",
    "    if error_x <= 0.05 and error_y <= 0.05:\n",
    "        twist(0.0,0.0)   \n",
    "        atGoal = True        \n",
    "        \n",
    "    #Otherwise keep driving, using P-controller to adjust angular velocity\n",
    "    else:\n",
    "        omega = - (2 * error_heading)\n",
    "        twist(constVel, omega)        "
   ]
  },
  {
   "cell_type": "markdown",
   "metadata": {},
   "source": [
    "The functions below are helpers and will be called through our main loop."
   ]
  },
  {
   "cell_type": "code",
   "execution_count": 8,
   "metadata": {},
   "outputs": [],
   "source": [
    "#Functions to read and format encoder data received from the Serial port\n",
    "def formatData(data):\n",
    "    delimiter = \"x\"\n",
    "    leftVal = \"\"\n",
    "    rightVal = \"\"\n",
    "    \n",
    "    for i in range(len(data)):        \n",
    "        if data[i] == \",\":\n",
    "            delimiter = \",\"            \n",
    "        elif delimiter != \",\":\n",
    "            leftVal += data[i]            \n",
    "        elif delimiter == \",\":\n",
    "            rightVal += data[i]    \n",
    "       \n",
    "    leftVal, rightVal = int(leftVal), int(rightVal)    \n",
    "    return leftVal, rightVal"
   ]
  },
  {
   "cell_type": "code",
   "execution_count": 9,
   "metadata": {},
   "outputs": [],
   "source": [
    "#Create a function that sends a movement command to the Arduino\n",
    "def twist(linearVelocity, angularVelocity):       \n",
    "        \n",
    "        command = f\"<{linearVelocity},{angularVelocity}>\"\n",
    "        ser.write(str.encode(command))"
   ]
  },
  {
   "cell_type": "markdown",
   "metadata": {},
   "source": [
    "This is the main part for our program that will loop over and over until Cerus has reached its goal. For our simple go-to-goal behavior, we will drive the robot at a constant speed and only adjust our heading so that we reach the goal location.\n",
    "\n",
    "__WARNING: This will move the robot!__"
   ]
  },
  {
   "cell_type": "code",
   "execution_count": 10,
   "metadata": {},
   "outputs": [
    {
     "name": "stdout",
     "output_type": "stream",
     "text": [
      "Delta Ticks: 0 0\n",
      "The heading error is:  -0.7854\n",
      "The X error is:  0.5\n",
      "The Y error is:  -0.5\n",
      "Delta Ticks: 74 -71\n",
      "The heading error is:  -0.5483\n",
      "The X error is:  0.4994\n",
      "The Y error is:  -0.5\n",
      "Delta Ticks: 102 -73\n",
      "The heading error is:  -0.2655\n",
      "The X error is:  0.4941\n",
      "The Y error is:  -0.4987\n",
      "Delta Ticks: 101 -18\n",
      "The heading error is:  -0.0764\n",
      "The X error is:  0.4806\n",
      "The Y error is:  -0.4909\n",
      "Delta Ticks: 79 24\n",
      "The heading error is:  0.0116\n",
      "The X error is:  0.466\n",
      "The Y error is:  -0.4781\n",
      "Delta Ticks: 53 46\n",
      "The heading error is:  0.0234\n",
      "The X error is:  0.4531\n",
      "The Y error is:  -0.4646\n",
      "Delta Ticks: 48 53\n",
      "The heading error is:  0.0158\n",
      "The X error is:  0.4401\n",
      "The Y error is:  -0.4507\n",
      "Delta Ticks: 47 53\n",
      "The heading error is:  0.0064\n",
      "The X error is:  0.4271\n",
      "The Y error is:  -0.437\n",
      "Delta Ticks: 50 51\n",
      "The heading error is:  0.0051\n",
      "The X error is:  0.4139\n",
      "The Y error is:  -0.4233\n",
      "Delta Ticks: 50 50\n",
      "The heading error is:  0.0052\n",
      "The X error is:  0.4008\n",
      "The Y error is:  -0.4098\n",
      "Delta Ticks: 50 51\n",
      "The heading error is:  0.0039\n",
      "The X error is:  0.3876\n",
      "The Y error is:  -0.3961\n",
      "Delta Ticks: 50 50\n",
      "The heading error is:  0.004\n",
      "The X error is:  0.3745\n",
      "The Y error is:  -0.3826\n",
      "Delta Ticks: 49 48\n",
      "The heading error is:  0.0058\n",
      "The X error is:  0.3618\n",
      "The Y error is:  -0.3695\n",
      "Delta Ticks: 49 50\n",
      "The heading error is:  0.0043\n",
      "The X error is:  0.3488\n",
      "The Y error is:  -0.3561\n",
      "Delta Ticks: 50 50\n",
      "The heading error is:  0.0045\n",
      "The X error is:  0.3357\n",
      "The Y error is:  -0.3426\n",
      "Delta Ticks: 49 50\n",
      "The heading error is:  0.0031\n",
      "The X error is:  0.3227\n",
      "The Y error is:  -0.3292\n",
      "Delta Ticks: 49 49\n",
      "The heading error is:  0.0032\n",
      "The X error is:  0.3098\n",
      "The Y error is:  -0.316\n",
      "Delta Ticks: 50 50\n",
      "The heading error is:  0.0033\n",
      "The X error is:  0.2966\n",
      "The Y error is:  -0.3025\n",
      "Delta Ticks: 50 50\n",
      "The heading error is:  0.0033\n",
      "The X error is:  0.2834\n",
      "The Y error is:  -0.289\n",
      "Delta Ticks: 50 50\n",
      "The heading error is:  0.0034\n",
      "The X error is:  0.2702\n",
      "The Y error is:  -0.2755\n",
      "Delta Ticks: 50 50\n",
      "The heading error is:  0.0035\n",
      "The X error is:  0.257\n",
      "The Y error is:  -0.262\n",
      "Delta Ticks: 49 48\n",
      "The heading error is:  0.0052\n",
      "The X error is:  0.2442\n",
      "The Y error is:  -0.2489\n",
      "Delta Ticks: 49 50\n",
      "The heading error is:  0.0039\n",
      "The X error is:  0.2312\n",
      "The Y error is:  -0.2355\n",
      "Delta Ticks: 49 50\n",
      "The heading error is:  0.0026\n",
      "The X error is:  0.2182\n",
      "The Y error is:  -0.2221\n",
      "Delta Ticks: 49 49\n",
      "The heading error is:  0.0028\n",
      "The X error is:  0.2053\n",
      "The Y error is:  -0.2089\n",
      "Delta Ticks: 50 49\n",
      "The heading error is:  0.0046\n",
      "The X error is:  0.1923\n",
      "The Y error is:  -0.1956\n",
      "Delta Ticks: 49 49\n",
      "The heading error is:  0.0048\n",
      "The X error is:  0.1794\n",
      "The Y error is:  -0.1824\n",
      "Delta Ticks: 50 50\n",
      "The heading error is:  0.005\n",
      "The X error is:  0.1662\n",
      "The Y error is:  -0.1689\n",
      "Delta Ticks: 50 49\n",
      "The heading error is:  0.0073\n",
      "The X error is:  0.1532\n",
      "The Y error is:  -0.1555\n",
      "Delta Ticks: 49 51\n",
      "The heading error is:  0.0047\n",
      "The X error is:  0.1401\n",
      "The Y error is:  -0.142\n",
      "Delta Ticks: 50 50\n",
      "The heading error is:  0.0051\n",
      "The X error is:  0.1269\n",
      "The Y error is:  -0.1285\n",
      "Delta Ticks: 49 49\n",
      "The heading error is:  0.0057\n",
      "The X error is:  0.114\n",
      "The Y error is:  -0.1153\n",
      "Delta Ticks: 49 50\n",
      "The heading error is:  0.0049\n",
      "The X error is:  0.101\n",
      "The Y error is:  -0.102\n",
      "Delta Ticks: 49 50\n",
      "The heading error is:  0.0037\n",
      "The X error is:  0.0879\n",
      "The Y error is:  -0.0887\n",
      "Delta Ticks: 49 50\n",
      "The heading error is:  0.0026\n",
      "The X error is:  0.0748\n",
      "The Y error is:  -0.0754\n",
      "Delta Ticks: 49 50\n",
      "The heading error is:  0.0018\n",
      "The X error is:  0.0617\n",
      "The Y error is:  -0.0621\n",
      "Delta Ticks: 49 51\n",
      "The heading error is:  -0.0014\n",
      "The X error is:  0.0484\n",
      "The Y error is:  -0.0487\n",
      "Robot at goal position.\n"
     ]
    }
   ],
   "source": [
    "while not atGoal:\n",
    "    \n",
    "    moveRobot()    \n",
    "    \n",
    "print(\"Robot at goal position.\")"
   ]
  },
  {
   "cell_type": "code",
   "execution_count": 11,
   "metadata": {},
   "outputs": [],
   "source": [
    "# Close the serial connection when done\n",
    "ser.close()"
   ]
  }
 ],
 "metadata": {
  "kernelspec": {
   "display_name": "Python 3",
   "language": "python",
   "name": "python3"
  },
  "language_info": {
   "codemirror_mode": {
    "name": "ipython",
    "version": 3
   },
   "file_extension": ".py",
   "mimetype": "text/x-python",
   "name": "python",
   "nbconvert_exporter": "python",
   "pygments_lexer": "ipython3",
   "version": "3.8.5"
  }
 },
 "nbformat": 4,
 "nbformat_minor": 4
}
