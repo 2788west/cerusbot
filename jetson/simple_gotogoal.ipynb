{
 "cells": [
  {
   "cell_type": "markdown",
   "metadata": {},
   "source": [
    "# Simple Go-To-Goal for Cerus"
   ]
  },
  {
   "cell_type": "markdown",
   "metadata": {},
   "source": [
    "The following code implements a simple go-to-goal behavior for Cerus. It uses a closed feedback loop to continuously asses Cerus' state (position and heading) in the world using data from two wheel encoders. It subsequently calculates the error between a given goal location and its current pose and will attempt to minimize the error until it reaches the goal location. A P-regulator (see PID regulator) function uses the error as an input and outputs the angular velocity for the Arduino and motor controllers that drive the robot. \n",
    "\n",
    "All models used in this program are adapted from Georgia Tech's \"Control of Mobile Robots\" by Dr. Magnus Egerstedt.    "
   ]
  },
  {
   "cell_type": "code",
   "execution_count": 96,
   "metadata": {},
   "outputs": [],
   "source": [
    "#Import useful libraries\n",
    "import serial\n",
    "import time\n",
    "import math"
   ]
  },
  {
   "cell_type": "markdown",
   "metadata": {},
   "source": [
    "We first define our goal location. Units are metric, real-world coordinates in an X/Y coordinate system"
   ]
  },
  {
   "cell_type": "code",
   "execution_count": 97,
   "metadata": {},
   "outputs": [],
   "source": [
    "goal_x = 1 #Goal X coordinate in meters\n",
    "goal_y = 0 #Goal Y coordinate in meters\n",
    "constVel = 0.2 #To simplify this program, we're using a constant linear velocity to reach our goal"
   ]
  },
  {
   "cell_type": "markdown",
   "metadata": {},
   "source": [
    "We use pySerial to read encoder data from the Arduino and send move commands to it:"
   ]
  },
  {
   "cell_type": "code",
   "execution_count": 98,
   "metadata": {},
   "outputs": [],
   "source": [
    "#Opening a serial port on the Arduino resets it, so our encoder count is also reset to 0,0\n",
    "ser = serial.Serial('COM3', 115200)"
   ]
  },
  {
   "cell_type": "markdown",
   "metadata": {},
   "source": [
    "The Cerus class keeps track of all the important robot parameters."
   ]
  },
  {
   "cell_type": "code",
   "execution_count": 99,
   "metadata": {},
   "outputs": [],
   "source": [
    "class Cerus():\n",
    "    def __init__(self, pose_x, pose_y, pose_phi, R_wheel, N_ticks, L_track):\n",
    "        self.pose_x = pose_x #X position\n",
    "        self.pose_y = pose_y #Y position\n",
    "        self.pose_phi = pose_phi #Heading\n",
    "        self.R_wheel = R_wheel #wheel radius in meters\n",
    "        self.N_ticks = N_ticks #encoder ticks per wheel revolution\n",
    "        self.L_track = L_track #wheel track in meters        \n",
    "\n",
    "#Create a Cerus instance and initialize it to a 0,0,0 world position and with some physical dimensions \n",
    "cerus = Cerus(0,0,0,0.03,449,0.23)"
   ]
  },
  {
   "cell_type": "markdown",
   "metadata": {},
   "source": [
    "Pose calculation allows us track where our robot is in space as it moves. The pose is often also referred to as the 'state'."
   ]
  },
  {
   "cell_type": "code",
   "execution_count": 100,
   "metadata": {},
   "outputs": [],
   "source": [
    "def calculatePose(deltaTicks):\n",
    "    \n",
    "    #Calculate the centerline distance moved\n",
    "    distanceLeft = 2 * math.pi * cerus.R_wheel * (deltaTicks[0] / cerus.N_ticks)\n",
    "    distanceRight = 2 * math.pi * cerus.R_wheel * (deltaTicks[1] / cerus.N_ticks)\n",
    "    distanceCenter = (distanceLeft + distanceRight) / 2\n",
    "            \n",
    "    #Update the position and heading\n",
    "    cerus.pose_x = round((cerus.pose_x + distanceCenter * math.cos(cerus.pose_phi)), 4)\n",
    "    cerus.pose_y = round((cerus.pose_y + distanceCenter * math.sin(cerus.pose_phi)), 4)\n",
    "    cerus.pose_phi = round((cerus.pose_phi + ((distanceRight - distanceLeft) / cerus.L_track)), 4)\n",
    "        \n",
    "    #print(f\"The new position is {cerus.pose_x}, {cerus.pose_y} and the new heading is {cerus.pose_phi}.\")"
   ]
  },
  {
   "cell_type": "markdown",
   "metadata": {},
   "source": [
    "Additionally, we want to keep track of how far we're off the goal point defined initially."
   ]
  },
  {
   "cell_type": "code",
   "execution_count": 101,
   "metadata": {},
   "outputs": [],
   "source": [
    "#Calculate the error between Cerus' heading and the goal point\n",
    "def calculateError():\n",
    "    \n",
    "    phi_desired = math.atan((goal_y - cerus.pose_y)/(goal_x - cerus.pose_x))\n",
    "    \n",
    "    temp = phi_desired - cerus.pose_phi\n",
    "    error_heading = round((math.atan2(math.sin(temp), math.cos(temp))), 4) #ensure that error is within [-pi, pi]\n",
    "    error_x = round((goal_x - cerus.pose_x), 4)\n",
    "    error_y = round((goal_y - cerus.pose_y), 4)\n",
    "    \n",
    "    #print(\"The heading error is: \", error_heading)\n",
    "    #print(\"The X error is: \", error_x)\n",
    "    #print(\"The Y error is: \", error_y)\n",
    "    return error_x, error_y, error_heading"
   ]
  },
  {
   "cell_type": "markdown",
   "metadata": {},
   "source": [
    "Finally, we want to read our encoders, calculate our pose, calculate the goal error and issue a move command if necessary."
   ]
  },
  {
   "cell_type": "code",
   "execution_count": 102,
   "metadata": {},
   "outputs": [],
   "source": [
    "def moveRobot(): \n",
    "    \n",
    "    global atGoal\n",
    "    atGoal = False\n",
    "    \n",
    "    #Everytime we call this function, we read two sets of encoder values and evaluate the delta  \n",
    "    data = [\"<0,0>\",\"<0,0>\"]\n",
    "    i = 0    \n",
    "       \n",
    "    while i < 2 and atGoal == False:\n",
    "        if ser.inWaiting():                 \n",
    "            temp = ser.readline()\n",
    "            data[i] = temp.decode()\n",
    "            \n",
    "            leftValOld, rightValOld = formatData(data[0])\n",
    "            leftValNew, rightValNew = formatData(data[1])\n",
    "            i += 1\n",
    "        \n",
    "    #From these values we can calculate the momentary encoder values for both sides of the robot\n",
    "    leftDelta = leftValNew - leftValOld\n",
    "    rightDelta = rightValNew - rightValOld\n",
    "    deltaTicks = [leftDelta, rightDelta]\n",
    "    #print(f\"Left old: {leftValOld}, Left new: {leftValNew}\")\n",
    "    #print(f\"Right old: {rightValOld}, Right new: {rightValNew}\")\n",
    "            \n",
    "    #Calculate current pose\n",
    "    calculatePose(deltaTicks)        \n",
    "        \n",
    "    #Calculate the current pose to goal error\n",
    "    error_x, error_y, error_heading = calculateError()\n",
    "    #print(f\"Error X: {error_x}, Error Y: {error_y}\")\n",
    "        \n",
    "    #If we're within 5 cm of the goal\n",
    "    if error_x <= 0.05:# and error_y <= 0.05:\n",
    "        atGoal = True\n",
    "        twist(0.0,0.0)\n",
    "        print(\"Goal reached!\")        \n",
    "        \n",
    "    #Otherwise keep driving\n",
    "    else:\n",
    "        omega = - (1 * error_heading)                 \n",
    "        twist(constVel, 0.0)  "
   ]
  },
  {
   "cell_type": "markdown",
   "metadata": {},
   "source": [
    "The functions below are helpers and will be called through our main loop."
   ]
  },
  {
   "cell_type": "code",
   "execution_count": 103,
   "metadata": {},
   "outputs": [],
   "source": [
    "#Functions to read and format encoder data received from the Serial port\n",
    "def formatData(data):\n",
    "    delimiter = \"x\"\n",
    "    leftVal = \"\"\n",
    "    rightVal = \"\"\n",
    "    \n",
    "    for i in range(len(data)):        \n",
    "        if data[i] == \",\":\n",
    "            delimiter = \",\"            \n",
    "        elif delimiter != \",\" and data[i].isdigit():\n",
    "            leftVal += data[i]            \n",
    "        elif delimiter == \",\" and data[i].isdigit():\n",
    "            rightVal += data[i]    \n",
    "       \n",
    "    leftVal, rightVal = int(leftVal), int(rightVal)    \n",
    "    return leftVal, rightVal"
   ]
  },
  {
   "cell_type": "code",
   "execution_count": 104,
   "metadata": {},
   "outputs": [],
   "source": [
    "#Create a function that sends a movement command to the Arduino\n",
    "def twist(linearVelocity, angularVelocity):       \n",
    "        \n",
    "        command = f\"<{linearVelocity},{angularVelocity}>\"\n",
    "        ser.write(str.encode(command))"
   ]
  },
  {
   "cell_type": "markdown",
   "metadata": {},
   "source": [
    "This is the main part for our program that will loop over and over until Cerus has reached its goal. For our simple go-to-goal behavior, we will drive the robot at a constant speed and only adjust our heading so that we reach the goal location.\n",
    "\n",
    "__WARNING: This will move the robot!__"
   ]
  },
  {
   "cell_type": "code",
   "execution_count": 105,
   "metadata": {},
   "outputs": [
    {
     "name": "stdout",
     "output_type": "stream",
     "text": [
      "Goal reached!\n",
      "Robot at goal position.\n"
     ]
    }
   ],
   "source": [
    "while not atGoal:\n",
    "    moveRobot()    \n",
    "    \n",
    "print(\"Robot at goal position.\")"
   ]
  },
  {
   "cell_type": "code",
   "execution_count": null,
   "metadata": {},
   "outputs": [],
   "source": [
    "#Close the serial connection when done\n",
    "ser.close()"
   ]
  }
 ],
 "metadata": {
  "kernelspec": {
   "display_name": "Python 3",
   "language": "python",
   "name": "python3"
  },
  "language_info": {
   "codemirror_mode": {
    "name": "ipython",
    "version": 3
   },
   "file_extension": ".py",
   "mimetype": "text/x-python",
   "name": "python",
   "nbconvert_exporter": "python",
   "pygments_lexer": "ipython3",
   "version": "3.8.5"
  }
 },
 "nbformat": 4,
 "nbformat_minor": 4
}
