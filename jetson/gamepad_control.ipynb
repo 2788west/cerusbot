{
 "cells": [
  {
   "cell_type": "code",
   "execution_count": 36,
   "metadata": {},
   "outputs": [],
   "source": [
    "import time\n",
    "import ipywidgets.widgets as widgets\n",
    "import traitlets\n",
    "from traitlets import HasTraits, Int\n",
    "from IPython.display import display\n",
    "import serial"
   ]
  },
  {
   "cell_type": "code",
   "execution_count": 37,
   "metadata": {},
   "outputs": [],
   "source": [
    "ser = serial.Serial('COM5', 115200)"
   ]
  },
  {
   "cell_type": "code",
   "execution_count": 38,
   "metadata": {},
   "outputs": [],
   "source": [
    "#Create motor class\n",
    "class Motors(HasTraits):\n",
    "    \n",
    "    motor1 = Int()\n",
    "    motor2 = Int()\n",
    "    motor3 = Int()\n",
    "    motor4 = Int()\n",
    "    \n",
    "motors = Motors()"
   ]
  },
  {
   "cell_type": "code",
   "execution_count": 39,
   "metadata": {
    "scrolled": false
   },
   "outputs": [
    {
     "data": {
      "application/vnd.jupyter.widget-view+json": {
       "model_id": "1598d0cc2a1146d6a48ab37982491c38",
       "version_major": 2,
       "version_minor": 0
      },
      "text/plain": [
       "HBox(children=(VBox(children=(IntSlider(value=0, description='Motor 1', max=255, orientation='vertical'), IntS…"
      ]
     },
     "metadata": {},
     "output_type": "display_data"
    }
   ],
   "source": [
    "#Create motor sliders\n",
    "\n",
    "motor1_slider = widgets.IntSlider(description='Motor 1', min=0, max=255, step=1, orientation='vertical')\n",
    "motor2_slider = widgets.IntSlider(description='Motor 2', min=0, max=255, step=1, orientation='vertical')\n",
    "motor3_slider = widgets.IntSlider(description='Motor 3', min=0, max=255, step=1, orientation='vertical')\n",
    "motor4_slider = widgets.IntSlider(description='Motor 4', min=0, max=255, step=1, orientation='vertical')\n",
    "\n",
    "left_box = widgets.VBox([motor1_slider, motor3_slider])\n",
    "right_box = widgets.VBox([motor2_slider, motor4_slider])\n",
    "slider_container = widgets.HBox([left_box, right_box])\n",
    "display(slider_container)"
   ]
  },
  {
   "cell_type": "code",
   "execution_count": null,
   "metadata": {},
   "outputs": [],
   "source": [
    "#Attach game controller and link to motor sliders\n",
    "\n",
    "controller = widgets.Controller(index=0)  # replace with index of your controller\n",
    "display(controller)"
   ]
  },
  {
   "cell_type": "code",
   "execution_count": 40,
   "metadata": {},
   "outputs": [],
   "source": [
    "#Link the motor sliders to the motors\n",
    "\n",
    "motor1_link = traitlets.link((motor1_slider, 'value'), (motors, 'motor1'))\n",
    "motor2_link = traitlets.link((motor2_slider, 'value'), (motors, 'motor2'))\n",
    "motor3_link = traitlets.link((motor3_slider, 'value'), (motors, 'motor3'))\n",
    "motor4_link = traitlets.link((motor4_slider, 'value'), (motors, 'motor4'))"
   ]
  },
  {
   "cell_type": "code",
   "execution_count": 41,
   "metadata": {},
   "outputs": [],
   "source": [
    "#Send the command to the Arduino via Serial\n",
    "\n",
    "def detect(change):\n",
    "    \n",
    "    if change['new']:\n",
    "        \n",
    "        command = f\"<{motors.motor1},{motors.motor2},{motors.motor3},{motors.motor4}>\"\n",
    "        #print(command)\n",
    "        ser.write(str.encode(command))       \n",
    "        time.sleep(0.01)\n",
    "    \n",
    "motor1_slider.observe(detect, names='value')\n",
    "motor2_slider.observe(detect, names='value')\n",
    "motor3_slider.observe(detect, names='value')\n",
    "motor4_slider.observe(detect, names='value')"
   ]
  },
  {
   "cell_type": "code",
   "execution_count": 35,
   "metadata": {},
   "outputs": [],
   "source": [
    "ser.close()"
   ]
  }
 ],
 "metadata": {
  "kernelspec": {
   "display_name": "Python 3",
   "language": "python",
   "name": "python3"
  },
  "language_info": {
   "codemirror_mode": {
    "name": "ipython",
    "version": 3
   },
   "file_extension": ".py",
   "mimetype": "text/x-python",
   "name": "python",
   "nbconvert_exporter": "python",
   "pygments_lexer": "ipython3",
   "version": "3.8.5"
  }
 },
 "nbformat": 4,
 "nbformat_minor": 4
}
