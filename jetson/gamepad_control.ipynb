{
 "cells": [
  {
   "cell_type": "markdown",
   "metadata": {},
   "source": [
    "# Gamepad Control for Cerus"
   ]
  },
  {
   "cell_type": "markdown",
   "metadata": {},
   "source": [
    "The following code allows for simple remote control of the Cerus mobile robot platform via a gamepad controller."
   ]
  },
  {
   "cell_type": "code",
   "execution_count": 93,
   "metadata": {},
   "outputs": [],
   "source": [
    "#Import useful libraries\n",
    "import serial\n",
    "import time\n",
    "import traitlets\n",
    "import ipywidgets.widgets as widgets\n",
    "from traitlets import HasTraits, Float\n",
    "from IPython.display import display"
   ]
  },
  {
   "cell_type": "code",
   "execution_count": 94,
   "metadata": {},
   "outputs": [],
   "source": [
    "#Open a serial connection with the Arduino Mega\n",
    "ser = serial.Serial('COM3', 115200)"
   ]
  },
  {
   "cell_type": "code",
   "execution_count": 95,
   "metadata": {},
   "outputs": [],
   "source": [
    "#Create a simple motor class with traits\n",
    "class Motors(HasTraits):\n",
    "    \n",
    "    left = Float()\n",
    "    right = Float()\n",
    "       \n",
    "motors = Motors()"
   ]
  },
  {
   "cell_type": "code",
   "execution_count": 97,
   "metadata": {},
   "outputs": [
    {
     "data": {
      "application/vnd.jupyter.widget-view+json": {
       "model_id": "4f64779f250e4004a24ce7246f29a570",
       "version_major": 2,
       "version_minor": 0
      },
      "text/plain": [
       "Controller()"
      ]
     },
     "metadata": {},
     "output_type": "display_data"
    }
   ],
   "source": [
    "#Attach game controller and link to motor sliders\n",
    "#You can find the index of your controller on http://html5gamepad.com\n",
    "controller = widgets.Controller(index=0)  # replace with index of your controller\n",
    "display(controller)"
   ]
  },
  {
   "cell_type": "code",
   "execution_count": 98,
   "metadata": {},
   "outputs": [],
   "source": [
    "#Link the controller axes to the motors\n",
    "left_link = traitlets.dlink((controller.axes[1], 'value'), (motors, 'left'))\n",
    "right_link = traitlets.dlink((controller.axes[3], 'value'), (motors, 'right'))"
   ]
  },
  {
   "cell_type": "code",
   "execution_count": 101,
   "metadata": {},
   "outputs": [],
   "source": [
    "#Send the move command to the Arduino via Serial when a change to the controller axes is detected\n",
    "def detect(change):\n",
    "    \n",
    "    if change['new']:\n",
    "        \n",
    "        #Convert tank to twist\n",
    "        linearVelocity = ((motors.left + motors.right) / 2.0) \n",
    "        angularVelocity = ((motors.right - motors.left) / 2.0) \n",
    "        \n",
    "        #Create twist command\n",
    "        command = f\"<{linearVelocity},{angularVelocity}>\"\n",
    "        #print(command)\n",
    "        \n",
    "        ser.write(str.encode(command))       \n",
    "        time.sleep(0.01)\n",
    "    \n",
    "motors.observe(detect, names='left')\n",
    "motors.observe(detect, names='right')"
   ]
  },
  {
   "cell_type": "code",
   "execution_count": 100,
   "metadata": {},
   "outputs": [
    {
     "data": {
      "application/vnd.jupyter.widget-view+json": {
       "model_id": "aba60a2194f64c25841ed54bb8f7e0e8",
       "version_major": 2,
       "version_minor": 0
      },
      "text/plain": [
       "Button(button_style='warning', description='STOP', icon='exclamation-triangle', style=ButtonStyle(), tooltip='…"
      ]
     },
     "metadata": {},
     "output_type": "display_data"
    },
    {
     "data": {
      "application/vnd.jupyter.widget-view+json": {
       "model_id": "2b418adb81c9499a8f05e348f0755d6b",
       "version_major": 2,
       "version_minor": 0
      },
      "text/plain": [
       "Output()"
      ]
     },
     "metadata": {},
     "output_type": "display_data"
    }
   ],
   "source": [
    "#Create a useful emergency stop button\n",
    "button = widgets.Button(description='STOP', disabled=False,  button_style='warning', tooltip='Stop motors',  icon='exclamation-triangle')\n",
    "output = widgets.Output()\n",
    "display(button, output)\n",
    "\n",
    "def on_button_clicked(b):\n",
    "    with output:\n",
    "        command = f\"<{0.0},{0.0}>\"\n",
    "        ser.write(str.encode(command))\n",
    "\n",
    "button.on_click(on_button_clicked)"
   ]
  },
  {
   "cell_type": "code",
   "execution_count": 92,
   "metadata": {},
   "outputs": [],
   "source": [
    "#Make sure to close the serial connection after you're done\n",
    "ser.close()"
   ]
  }
 ],
 "metadata": {
  "kernelspec": {
   "display_name": "Python 3",
   "language": "python",
   "name": "python3"
  },
  "language_info": {
   "codemirror_mode": {
    "name": "ipython",
    "version": 3
   },
   "file_extension": ".py",
   "mimetype": "text/x-python",
   "name": "python",
   "nbconvert_exporter": "python",
   "pygments_lexer": "ipython3",
   "version": "3.8.5"
  }
 },
 "nbformat": 4,
 "nbformat_minor": 4
}
