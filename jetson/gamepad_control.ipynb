{
 "cells": [
  {
   "cell_type": "code",
   "execution_count": null,
   "metadata": {},
   "outputs": [],
   "source": [
    "import serial\n",
    "ser = serial.Serial('COM5', 9600)"
   ]
  },
  {
   "cell_type": "code",
   "execution_count": null,
   "metadata": {},
   "outputs": [],
   "source": [
    "#Motor speed mapping:\n",
    "0 - 126 -> Reverse\n",
    "127, 128 -> Stop\n",
    "129 - 255 -> Forward"
   ]
  },
  {
   "cell_type": "code",
   "execution_count": null,
   "metadata": {},
   "outputs": [],
   "source": [
    "#Add iPy Widget sliders here to control motor speeds"
   ]
  },
  {
   "cell_type": "code",
   "execution_count": 1,
   "metadata": {},
   "outputs": [
    {
     "name": "stdout",
     "output_type": "stream",
     "text": [
      "<255,255,255,255>\n"
     ]
    }
   ],
   "source": [
    "motor1_speed = 255\n",
    "motor2_speed = 255\n",
    "motor3_speed = 255\n",
    "motor4_speed = 255\n",
    "\n",
    "command = f\"<{motor1_speed},{motor2_speed},{motor3_speed},{motor4_speed}>\"\n",
    "\n",
    "print(command)\n",
    "ser.write(str.encode(command))"
   ]
  }
 ],
 "metadata": {
  "kernelspec": {
   "display_name": "Python 3",
   "language": "python",
   "name": "python3"
  },
  "language_info": {
   "codemirror_mode": {
    "name": "ipython",
    "version": 3
   },
   "file_extension": ".py",
   "mimetype": "text/x-python",
   "name": "python",
   "nbconvert_exporter": "python",
   "pygments_lexer": "ipython3",
   "version": "3.8.5"
  }
 },
 "nbformat": 4,
 "nbformat_minor": 4
}
